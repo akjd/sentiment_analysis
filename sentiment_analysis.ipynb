{
 "cells": [
  {
   "cell_type": "code",
   "execution_count": 1,
   "id": "a23ca6c2",
   "metadata": {},
   "outputs": [],
   "source": [
    "import numpy as np\n",
    "import pandas as pd\n",
    "import re\n",
    "\n",
    "pd.set_option('display.max_colwidth', None)"
   ]
  },
  {
   "cell_type": "code",
   "execution_count": 2,
   "id": "6c956f3c",
   "metadata": {},
   "outputs": [],
   "source": [
    "with open('weibo_data.csv','r',encoding='utf-8') as f:\n",
    "    weibo_data=pd.read_csv(f)"
   ]
  },
  {
   "cell_type": "markdown",
   "id": "f318bd12",
   "metadata": {},
   "source": [
    "# 1. Preprocess dataset"
   ]
  },
  {
   "cell_type": "code",
   "execution_count": 3,
   "id": "6b1585f9",
   "metadata": {},
   "outputs": [
    {
     "data": {
      "text/html": [
       "<div>\n",
       "<style scoped>\n",
       "    .dataframe tbody tr th:only-of-type {\n",
       "        vertical-align: middle;\n",
       "    }\n",
       "\n",
       "    .dataframe tbody tr th {\n",
       "        vertical-align: top;\n",
       "    }\n",
       "\n",
       "    .dataframe thead th {\n",
       "        text-align: right;\n",
       "    }\n",
       "</style>\n",
       "<table border=\"1\" class=\"dataframe\">\n",
       "  <thead>\n",
       "    <tr style=\"text-align: right;\">\n",
       "      <th></th>\n",
       "      <th>name</th>\n",
       "      <th>time</th>\n",
       "      <th>content</th>\n",
       "      <th>repost</th>\n",
       "      <th>comment</th>\n",
       "      <th>like</th>\n",
       "    </tr>\n",
       "  </thead>\n",
       "  <tbody>\n",
       "    <tr>\n",
       "      <th>0</th>\n",
       "      <td>Fee1lix</td>\n",
       "      <td>\\n                        03月30日 20:30\\n</td>\n",
       "      <td>\\n                    海底捞科目三 LFee1lix的微博视频 ​</td>\n",
       "      <td>122</td>\n",
       "      <td>16</td>\n",
       "      <td>654</td>\n",
       "    </tr>\n",
       "    <tr>\n",
       "      <th>1</th>\n",
       "      <td>鲫鱼草草</td>\n",
       "      <td>\\n                        03月30日 19:49\\n</td>\n",
       "      <td>\\n                    你们看con我看海底捞跳科目三 ​</td>\n",
       "      <td>0</td>\n",
       "      <td>0</td>\n",
       "      <td>0</td>\n",
       "    </tr>\n",
       "    <tr>\n",
       "      <th>2</th>\n",
       "      <td>芝士烤好了你要不要尝一下</td>\n",
       "      <td>\\n                        03月30日 19:26\\n</td>\n",
       "      <td>\\n                    什么名字啊意思是你们歪果仁把科目三叫海底捞啊？更土了我崩溃了。 ​</td>\n",
       "      <td>0</td>\n",
       "      <td>0</td>\n",
       "      <td>0</td>\n",
       "    </tr>\n",
       "    <tr>\n",
       "      <th>3</th>\n",
       "      <td>脾气不好把你们全都砍死</td>\n",
       "      <td>\\n                        03月30日 19:01\\n</td>\n",
       "      <td>\\n                    外网喊科目三叫海底捞challenge 笑死我了吗的 ​</td>\n",
       "      <td>0</td>\n",
       "      <td>0</td>\n",
       "      <td>0</td>\n",
       "    </tr>\n",
       "    <tr>\n",
       "      <th>4</th>\n",
       "      <td>一场冰雹-</td>\n",
       "      <td>\\n                        03月30日 18:49\\n</td>\n",
       "      <td>\\n                    他们为什么把科目三叫成海底捞challenge啊啊啊啊啊啊神经病 ​</td>\n",
       "      <td>0</td>\n",
       "      <td>6</td>\n",
       "      <td>43</td>\n",
       "    </tr>\n",
       "    <tr>\n",
       "      <th>...</th>\n",
       "      <td>...</td>\n",
       "      <td>...</td>\n",
       "      <td>...</td>\n",
       "      <td>...</td>\n",
       "      <td>...</td>\n",
       "      <td>...</td>\n",
       "    </tr>\n",
       "    <tr>\n",
       "      <th>18162</th>\n",
       "      <td>我吃饭的时候不会饿wuuu</td>\n",
       "      <td>\\n                        2023年11月19日 00:34\\n</td>\n",
       "      <td>\\n                    在海底捞听了一晚上的科目三 生日歌 分手快乐 ​</td>\n",
       "      <td>0</td>\n",
       "      <td>0</td>\n",
       "      <td>1</td>\n",
       "    </tr>\n",
       "    <tr>\n",
       "      <th>18163</th>\n",
       "      <td>11champagne</td>\n",
       "      <td>\\n                        2023年11月19日 00:29\\n</td>\n",
       "      <td>\\n                    我想去海底捞跳科目三。。 ​</td>\n",
       "      <td>0</td>\n",
       "      <td>2</td>\n",
       "      <td>0</td>\n",
       "    </tr>\n",
       "    <tr>\n",
       "      <th>18164</th>\n",
       "      <td>木木是我的23333</td>\n",
       "      <td>\\n                        2023年11月19日 00:25\\n</td>\n",
       "      <td>\\n                    刷了一晚上海底捞科目三，那哥们是真上头 ​</td>\n",
       "      <td>0</td>\n",
       "      <td>0</td>\n",
       "      <td>0</td>\n",
       "    </tr>\n",
       "    <tr>\n",
       "      <th>18165</th>\n",
       "      <td>5块糖</td>\n",
       "      <td>\\n                        2023年11月19日 00:20\\n</td>\n",
       "      <td>\\n                    万万没想到在海底捞里看了十几遍科目三 ​</td>\n",
       "      <td>0</td>\n",
       "      <td>0</td>\n",
       "      <td>0</td>\n",
       "    </tr>\n",
       "    <tr>\n",
       "      <th>18166</th>\n",
       "      <td>不叫三岁了</td>\n",
       "      <td>\\n                        2023年11月19日 00:20\\n</td>\n",
       "      <td>\\n                    啊啊啊爱上了海底捞科目三 ​</td>\n",
       "      <td>0</td>\n",
       "      <td>4</td>\n",
       "      <td>0</td>\n",
       "    </tr>\n",
       "  </tbody>\n",
       "</table>\n",
       "<p>18167 rows × 6 columns</p>\n",
       "</div>"
      ],
      "text/plain": [
       "                name  \\\n",
       "0            Fee1lix   \n",
       "1               鲫鱼草草   \n",
       "2       芝士烤好了你要不要尝一下   \n",
       "3        脾气不好把你们全都砍死   \n",
       "4              一场冰雹-   \n",
       "...              ...   \n",
       "18162  我吃饭的时候不会饿wuuu   \n",
       "18163    11champagne   \n",
       "18164     木木是我的23333   \n",
       "18165            5块糖   \n",
       "18166          不叫三岁了   \n",
       "\n",
       "                                                                        time  \\\n",
       "0           \\n                        03月30日 20:30\\n                           \n",
       "1           \\n                        03月30日 19:49\\n                           \n",
       "2           \\n                        03月30日 19:26\\n                           \n",
       "3           \\n                        03月30日 19:01\\n                           \n",
       "4           \\n                        03月30日 18:49\\n                           \n",
       "...                                                                      ...   \n",
       "18162  \\n                        2023年11月19日 00:34\\n                           \n",
       "18163  \\n                        2023年11月19日 00:29\\n                           \n",
       "18164  \\n                        2023年11月19日 00:25\\n                           \n",
       "18165  \\n                        2023年11月19日 00:20\\n                           \n",
       "18166  \\n                        2023年11月19日 00:20\\n                           \n",
       "\n",
       "                                                                        content  \\\n",
       "0                  \\n                    海底捞科目三 LFee1lix的微博视频 ​                   \n",
       "1                       \\n                    你们看con我看海底捞跳科目三 ​                   \n",
       "2       \\n                    什么名字啊意思是你们歪果仁把科目三叫海底捞啊？更土了我崩溃了。 ​                   \n",
       "3            \\n                    外网喊科目三叫海底捞challenge 笑死我了吗的 ​                   \n",
       "4      \\n                    他们为什么把科目三叫成海底捞challenge啊啊啊啊啊啊神经病 ​                   \n",
       "...                                                                         ...   \n",
       "18162            \\n                    在海底捞听了一晚上的科目三 生日歌 分手快乐 ​                   \n",
       "18163                      \\n                    我想去海底捞跳科目三。。 ​                   \n",
       "18164               \\n                    刷了一晚上海底捞科目三，那哥们是真上头 ​                   \n",
       "18165                \\n                    万万没想到在海底捞里看了十几遍科目三 ​                   \n",
       "18166                      \\n                    啊啊啊爱上了海底捞科目三 ​                   \n",
       "\n",
       "       repost  comment  like  \n",
       "0         122       16   654  \n",
       "1           0        0     0  \n",
       "2           0        0     0  \n",
       "3           0        0     0  \n",
       "4           0        6    43  \n",
       "...       ...      ...   ...  \n",
       "18162       0        0     1  \n",
       "18163       0        2     0  \n",
       "18164       0        0     0  \n",
       "18165       0        0     0  \n",
       "18166       0        4     0  \n",
       "\n",
       "[18167 rows x 6 columns]"
      ]
     },
     "execution_count": 3,
     "metadata": {},
     "output_type": "execute_result"
    }
   ],
   "source": [
    "#convert repost, comment, like to numeric\n",
    "weibo_data=weibo_data.fillna(0)\n",
    "weibo_data[['repost','comment','like']]=weibo_data[['repost','comment','like']].astype('int')\n",
    "weibo_data"
   ]
  },
  {
   "cell_type": "code",
   "execution_count": 4,
   "id": "eeec5246",
   "metadata": {},
   "outputs": [
    {
     "data": {
      "text/plain": [
       "content    0.0\n",
       "time       0.0\n",
       "dtype: float64"
      ]
     },
     "execution_count": 4,
     "metadata": {},
     "output_type": "execute_result"
    }
   ],
   "source": [
    "#check if there is empty post or not\n",
    "weibo_data[['content','time']].isna().sum(axis=0)/len(weibo_data)*100"
   ]
  },
  {
   "cell_type": "code",
   "execution_count": 5,
   "id": "65dd75e2",
   "metadata": {},
   "outputs": [],
   "source": [
    "#delete \\n\n",
    "weibo_data.replace(to_replace=r'\\n',value='',regex=True,inplace=True)"
   ]
  },
  {
   "cell_type": "code",
   "execution_count": 6,
   "id": "6b628d28",
   "metadata": {},
   "outputs": [
    {
     "data": {
      "text/html": [
       "<div>\n",
       "<style scoped>\n",
       "    .dataframe tbody tr th:only-of-type {\n",
       "        vertical-align: middle;\n",
       "    }\n",
       "\n",
       "    .dataframe tbody tr th {\n",
       "        vertical-align: top;\n",
       "    }\n",
       "\n",
       "    .dataframe thead th {\n",
       "        text-align: right;\n",
       "    }\n",
       "</style>\n",
       "<table border=\"1\" class=\"dataframe\">\n",
       "  <thead>\n",
       "    <tr style=\"text-align: right;\">\n",
       "      <th></th>\n",
       "      <th>name</th>\n",
       "      <th>time</th>\n",
       "      <th>content</th>\n",
       "      <th>repost</th>\n",
       "      <th>comment</th>\n",
       "      <th>like</th>\n",
       "    </tr>\n",
       "  </thead>\n",
       "  <tbody>\n",
       "    <tr>\n",
       "      <th>0</th>\n",
       "      <td>Fee1lix</td>\n",
       "      <td>03月30日 20:30</td>\n",
       "      <td>海底捞科目三 LFee1lix的微博视频 ​</td>\n",
       "      <td>122</td>\n",
       "      <td>16</td>\n",
       "      <td>654</td>\n",
       "    </tr>\n",
       "    <tr>\n",
       "      <th>1</th>\n",
       "      <td>鲫鱼草草</td>\n",
       "      <td>03月30日 19:49</td>\n",
       "      <td>你们看con我看海底捞跳科目三 ​</td>\n",
       "      <td>0</td>\n",
       "      <td>0</td>\n",
       "      <td>0</td>\n",
       "    </tr>\n",
       "    <tr>\n",
       "      <th>2</th>\n",
       "      <td>芝士烤好了你要不要尝一下</td>\n",
       "      <td>03月30日 19:26</td>\n",
       "      <td>什么名字啊意思是你们歪果仁把科目三叫海底捞啊？更土了我崩溃了。 ​</td>\n",
       "      <td>0</td>\n",
       "      <td>0</td>\n",
       "      <td>0</td>\n",
       "    </tr>\n",
       "    <tr>\n",
       "      <th>3</th>\n",
       "      <td>脾气不好把你们全都砍死</td>\n",
       "      <td>03月30日 19:01</td>\n",
       "      <td>外网喊科目三叫海底捞challenge 笑死我了吗的 ​</td>\n",
       "      <td>0</td>\n",
       "      <td>0</td>\n",
       "      <td>0</td>\n",
       "    </tr>\n",
       "    <tr>\n",
       "      <th>4</th>\n",
       "      <td>一场冰雹-</td>\n",
       "      <td>03月30日 18:49</td>\n",
       "      <td>他们为什么把科目三叫成海底捞challenge啊啊啊啊啊啊神经病 ​</td>\n",
       "      <td>0</td>\n",
       "      <td>6</td>\n",
       "      <td>43</td>\n",
       "    </tr>\n",
       "  </tbody>\n",
       "</table>\n",
       "</div>"
      ],
      "text/plain": [
       "           name                                                          time  \\\n",
       "0       Fee1lix                          03月30日 20:30                           \n",
       "1          鲫鱼草草                          03月30日 19:49                           \n",
       "2  芝士烤好了你要不要尝一下                          03月30日 19:26                           \n",
       "3   脾气不好把你们全都砍死                          03月30日 19:01                           \n",
       "4         一场冰雹-                          03月30日 18:49                           \n",
       "\n",
       "                                                                  content  \\\n",
       "0                                  海底捞科目三 LFee1lix的微博视频 ​                   \n",
       "1                                       你们看con我看海底捞跳科目三 ​                   \n",
       "2                       什么名字啊意思是你们歪果仁把科目三叫海底捞啊？更土了我崩溃了。 ​                   \n",
       "3                            外网喊科目三叫海底捞challenge 笑死我了吗的 ​                   \n",
       "4                      他们为什么把科目三叫成海底捞challenge啊啊啊啊啊啊神经病 ​                   \n",
       "\n",
       "   repost  comment  like  \n",
       "0     122       16   654  \n",
       "1       0        0     0  \n",
       "2       0        0     0  \n",
       "3       0        0     0  \n",
       "4       0        6    43  "
      ]
     },
     "execution_count": 6,
     "metadata": {},
     "output_type": "execute_result"
    }
   ],
   "source": [
    "#check if it works or not\n",
    "weibo_data.head()"
   ]
  },
  {
   "cell_type": "code",
   "execution_count": 7,
   "id": "8763edbe",
   "metadata": {},
   "outputs": [],
   "source": [
    "weibo_data['time']\n",
    "d1=weibo_data['time'].str.contains('今天')\n",
    "weibo_data=weibo_data[~d1]"
   ]
  },
  {
   "cell_type": "code",
   "execution_count": 8,
   "id": "c2b936f4",
   "metadata": {
    "scrolled": false
   },
   "outputs": [
    {
     "name": "stderr",
     "output_type": "stream",
     "text": [
      "/var/folders/xm/8t7yxztd5bz10pfxx8ck_wd80000gn/T/ipykernel_29993/2625345315.py:4: SettingWithCopyWarning: \n",
      "A value is trying to be set on a copy of a slice from a DataFrame.\n",
      "Try using .loc[row_indexer,col_indexer] = value instead\n",
      "\n",
      "See the caveats in the documentation: https://pandas.pydata.org/pandas-docs/stable/user_guide/indexing.html#returning-a-view-versus-a-copy\n",
      "  weibo_data['time']=pd.to_datetime(date_parts[1]+''+date_parts[2],format='%Y年%m月%d日%H:%M')\n",
      "/var/folders/xm/8t7yxztd5bz10pfxx8ck_wd80000gn/T/ipykernel_29993/2625345315.py:6: SettingWithCopyWarning: \n",
      "A value is trying to be set on a copy of a slice from a DataFrame.\n",
      "Try using .loc[row_indexer,col_indexer] = value instead\n",
      "\n",
      "See the caveats in the documentation: https://pandas.pydata.org/pandas-docs/stable/user_guide/indexing.html#returning-a-view-versus-a-copy\n",
      "  weibo_data['Time']=pd.to_datetime(date_parts[1],format='%Y年%m月%d日')\n"
     ]
    }
   ],
   "source": [
    "#convert time to Time\n",
    "date_parts = weibo_data['time'].str.split(r'\\s+', expand=True)\n",
    "date_parts[1] = date_parts[1].apply(lambda x: x if '2023年' in x else '2024年' + x)\n",
    "weibo_data['time']=pd.to_datetime(date_parts[1]+''+date_parts[2],format='%Y年%m月%d日%H:%M')\n",
    "\n",
    "weibo_data['Time']=pd.to_datetime(date_parts[1],format='%Y年%m月%d日')"
   ]
  },
  {
   "cell_type": "code",
   "execution_count": 9,
   "id": "343f89a6",
   "metadata": {},
   "outputs": [],
   "source": [
    "# Define a clean_text function\n",
    "URL_REGEX = re.compile(\n",
    "    r'(?i)((?:https?://|www\\d{0,3}[.]|[a-z0-9.\\-]+[.][a-z]{2,4}/)(?:[^\\s()<>' + \"，；、。！？（）《》【】\" + ']+|\\(([^\\s()<>]+|(\\([^\\s()<>]+\\)))*\\))+(?:\\(([^\\s()<>]+|(\\([^\\s()<>]+\\)))*\\)|[^\\s`!()\\[\\]{};:\\'\".,<>?«»“”‘’' + \"，；、。！？（）《》【】\" + ']))',\n",
    "    re.IGNORECASE)\n",
    "EMAIL_REGEX = re.compile(r\"[-a-z0-9_.]+@(?:[-a-z0-9]+\\.)+[a-z]{2,6}\", re.IGNORECASE)\n",
    "EMOJI_PATTERN = re.compile(\"[\"u\"\\U0001F600-\\U0001F64F\"u\"\\U0001F300-\\U0001F5FF\"u\"\\U0001F680-\\U0001F6FF\"u\"\\U0001F1E0-\\U0001F1FF\"u\"\\U00002702-\\U000027B0\" \"]+\", flags=re.UNICODE)\n",
    "ALL_PUNCS = re.compile(\n",
    "    r\"[，\\_《。》、？；：‘’＂“”【「】」·！@￥…（）—\\,\\<\\.\\>\\/\\?\\;\\:\\'\\\"\\[\\]\\{\\}\\~\\`\\!\\@\\#\\$\\%\\^\\&\\*\\(\\)\\-\\=\\+]\")\n",
    "\n",
    "def clean_text(text):\n",
    "    if len(text) > 150:\n",
    "        return ''\n",
    "    if '海底捞'not in text and '科目三' not in text:\n",
    "        return ''\n",
    "    \n",
    "    text = text.split('L')[0]\n",
    "    text = text.split(' 2')[0]\n",
    "    text = text.split(' 收起d')[0]\n",
    "    \n",
    "    text = re.sub(URL_REGEX, \"\", text)\n",
    "    text = re.sub(EMAIL_REGEX, \"\", text)\n",
    "    text = re.sub(r\"(回复)?(//)?\\s*@\\S*?\\s*(:|：| |$)\", \" \", text)\n",
    "    text = EMOJI_PATTERN.sub(r'', text)\n",
    "    #text = re.sub(r\"#\\S+#\", \"\", text)\n",
    "    text = re.sub(r\"#\\S[^#]*#\", \"\", text)\n",
    "    text = text.replace(\"\\n\", \" \")\n",
    "    text = re.sub(r\"(\\s)+\", r\"\\1\", text)\n",
    "    text = re.sub(ALL_PUNCS, \"\", text)\n",
    "    \n",
    "    return text.strip()"
   ]
  },
  {
   "cell_type": "code",
   "execution_count": 10,
   "id": "3fa080bd",
   "metadata": {
    "scrolled": false
   },
   "outputs": [
    {
     "name": "stderr",
     "output_type": "stream",
     "text": [
      "/var/folders/xm/8t7yxztd5bz10pfxx8ck_wd80000gn/T/ipykernel_29993/4021872592.py:1: SettingWithCopyWarning: \n",
      "A value is trying to be set on a copy of a slice from a DataFrame.\n",
      "Try using .loc[row_indexer,col_indexer] = value instead\n",
      "\n",
      "See the caveats in the documentation: https://pandas.pydata.org/pandas-docs/stable/user_guide/indexing.html#returning-a-view-versus-a-copy\n",
      "  weibo_data['clean_content']=weibo_data['content'].apply(lambda x: clean_text(x))\n"
     ]
    }
   ],
   "source": [
    "weibo_data['clean_content']=weibo_data['content'].apply(lambda x: clean_text(x))"
   ]
  },
  {
   "cell_type": "code",
   "execution_count": 11,
   "id": "ff76c7e1",
   "metadata": {},
   "outputs": [
    {
     "name": "stderr",
     "output_type": "stream",
     "text": [
      "/var/folders/xm/8t7yxztd5bz10pfxx8ck_wd80000gn/T/ipykernel_29993/988906731.py:2: SettingWithCopyWarning: \n",
      "A value is trying to be set on a copy of a slice from a DataFrame\n",
      "\n",
      "See the caveats in the documentation: https://pandas.pydata.org/pandas-docs/stable/user_guide/indexing.html#returning-a-view-versus-a-copy\n",
      "  weibo_data.sort_values(by='time',inplace=True)\n",
      "/var/folders/xm/8t7yxztd5bz10pfxx8ck_wd80000gn/T/ipykernel_29993/988906731.py:3: SettingWithCopyWarning: \n",
      "A value is trying to be set on a copy of a slice from a DataFrame\n",
      "\n",
      "See the caveats in the documentation: https://pandas.pydata.org/pandas-docs/stable/user_guide/indexing.html#returning-a-view-versus-a-copy\n",
      "  weibo_data.drop_duplicates(subset='clean_content',keep='first',inplace=True)\n",
      "/var/folders/xm/8t7yxztd5bz10pfxx8ck_wd80000gn/T/ipykernel_29993/988906731.py:4: SettingWithCopyWarning: \n",
      "A value is trying to be set on a copy of a slice from a DataFrame\n",
      "\n",
      "See the caveats in the documentation: https://pandas.pydata.org/pandas-docs/stable/user_guide/indexing.html#returning-a-view-versus-a-copy\n",
      "  weibo_data.dropna(inplace=True)\n"
     ]
    }
   ],
   "source": [
    "#delete duplicated value and keep first value\n",
    "weibo_data.sort_values(by='time',inplace=True)\n",
    "weibo_data.drop_duplicates(subset='clean_content',keep='first',inplace=True)\n",
    "weibo_data.dropna(inplace=True)"
   ]
  },
  {
   "cell_type": "code",
   "execution_count": 12,
   "id": "e35dafd9",
   "metadata": {},
   "outputs": [
    {
     "data": {
      "text/plain": [
       "18166                        啊啊啊爱上了海底捞科目三 ​\n",
       "18165                  万万没想到在海底捞里看了十几遍科目三 ​\n",
       "18164                  刷了一晚上海底捞科目三那哥们是真上头 ​\n",
       "18163                          我想去海底捞跳科目三 ​\n",
       "18162              在海底捞听了一晚上的科目三 生日歌 分手快乐 ​\n",
       "                        ...                \n",
       "5                       海底捞在放程艾影变脸科目三也看到了 ​\n",
       "4        他们为什么把科目三叫成海底捞challenge啊啊啊啊啊啊神经病 ​\n",
       "3              外网喊科目三叫海底捞challenge 笑死我了吗的 ​\n",
       "2           什么名字啊意思是你们歪果仁把科目三叫海底捞啊更土了我崩溃了 ​\n",
       "1                         你们看con我看海底捞跳科目三 ​\n",
       "Name: clean_content, Length: 13178, dtype: object"
      ]
     },
     "execution_count": 12,
     "metadata": {},
     "output_type": "execute_result"
    }
   ],
   "source": [
    "weibo_data['clean_content']"
   ]
  },
  {
   "cell_type": "markdown",
   "id": "df368c3d",
   "metadata": {},
   "source": [
    "## 2. Using Baidu API to proceed sentiment analysis"
   ]
  },
  {
   "cell_type": "code",
   "execution_count": 13,
   "id": "48d41359",
   "metadata": {
    "scrolled": false
   },
   "outputs": [
    {
     "name": "stdout",
     "output_type": "stream",
     "text": [
      "An error occurred while analyzing sentiment: HTTPSConnectionPool(host='aip.baidubce.com', port=443): Max retries exceeded with url: /rpc/2.0/nlp/v1/sentiment_classify?charset=UTF-8&access_token=24.28243ecd1d4099a93dce6c5e5588acbc.2592000.1721647342.282335-85754190 (Caused by NewConnectionError('<urllib3.connection.HTTPSConnection object at 0x1316d5f90>: Failed to establish a new connection: [Errno 8] nodename nor servname provided, or not known'))\n",
      "An error occurred while analyzing sentiment: HTTPSConnectionPool(host='aip.baidubce.com', port=443): Max retries exceeded with url: /rpc/2.0/nlp/v1/sentiment_classify?charset=UTF-8&access_token=24.28243ecd1d4099a93dce6c5e5588acbc.2592000.1721647342.282335-85754190 (Caused by NewConnectionError('<urllib3.connection.HTTPSConnection object at 0x131689cd0>: Failed to establish a new connection: [Errno 8] nodename nor servname provided, or not known'))\n",
      "An error occurred while analyzing sentiment: HTTPSConnectionPool(host='aip.baidubce.com', port=443): Max retries exceeded with url: /rpc/2.0/nlp/v1/sentiment_classify?charset=UTF-8&access_token=24.28243ecd1d4099a93dce6c5e5588acbc.2592000.1721647342.282335-85754190 (Caused by NewConnectionError('<urllib3.connection.HTTPSConnection object at 0x1316d4710>: Failed to establish a new connection: [Errno 8] nodename nor servname provided, or not known'))\n",
      "An error occurred while analyzing sentiment: HTTPSConnectionPool(host='aip.baidubce.com', port=443): Max retries exceeded with url: /rpc/2.0/nlp/v1/sentiment_classify?charset=UTF-8&access_token=24.28243ecd1d4099a93dce6c5e5588acbc.2592000.1721647342.282335-85754190 (Caused by NewConnectionError('<urllib3.connection.HTTPSConnection object at 0x1316d5790>: Failed to establish a new connection: [Errno 8] nodename nor servname provided, or not known'))\n",
      "An error occurred while analyzing sentiment: HTTPSConnectionPool(host='aip.baidubce.com', port=443): Max retries exceeded with url: /rpc/2.0/nlp/v1/sentiment_classify?charset=UTF-8&access_token=24.28243ecd1d4099a93dce6c5e5588acbc.2592000.1721647342.282335-85754190 (Caused by NewConnectionError('<urllib3.connection.HTTPSConnection object at 0x1316d5790>: Failed to establish a new connection: [Errno 8] nodename nor servname provided, or not known'))\n",
      "An error occurred while analyzing sentiment: HTTPSConnectionPool(host='aip.baidubce.com', port=443): Max retries exceeded with url: /rpc/2.0/nlp/v1/sentiment_classify?charset=UTF-8&access_token=24.28243ecd1d4099a93dce6c5e5588acbc.2592000.1721647342.282335-85754190 (Caused by NewConnectionError('<urllib3.connection.HTTPSConnection object at 0x1316d4b10>: Failed to establish a new connection: [Errno 8] nodename nor servname provided, or not known'))\n",
      "An error occurred while analyzing sentiment: HTTPSConnectionPool(host='aip.baidubce.com', port=443): Max retries exceeded with url: /rpc/2.0/nlp/v1/sentiment_classify?charset=UTF-8&access_token=24.28243ecd1d4099a93dce6c5e5588acbc.2592000.1721647342.282335-85754190 (Caused by NewConnectionError('<urllib3.connection.HTTPSConnection object at 0x1316d5650>: Failed to establish a new connection: [Errno 8] nodename nor servname provided, or not known'))\n"
     ]
    },
    {
     "name": "stderr",
     "output_type": "stream",
     "text": [
      "/var/folders/xm/8t7yxztd5bz10pfxx8ck_wd80000gn/T/ipykernel_5575/3011864172.py:60: SettingWithCopyWarning: \n",
      "A value is trying to be set on a copy of a slice from a DataFrame.\n",
      "Try using .loc[row_indexer,col_indexer] = value instead\n",
      "\n",
      "See the caveats in the documentation: https://pandas.pydata.org/pandas-docs/stable/user_guide/indexing.html#returning-a-view-versus-a-copy\n",
      "  weibo_data['sentiment_analysis'] = sentiments\n"
     ]
    }
   ],
   "source": [
    "import requests\n",
    "import json\n",
    "import pandas as pd\n",
    "\n",
    "API_KEY = \"im7WPpspeZB8MWuRRow6uR6o\"\n",
    "SECRET_KEY = \"NZJbfT6YJKzoyzinvTjFGm7Lj1id5exS\"\n",
    "\n",
    "def get_access_token():\n",
    "    \"\"\"\n",
    "    Use API key and secret key to generate access token.\n",
    "    :return: access_token, or None if an error occurs\n",
    "    \"\"\"\n",
    "    url = \"https://aip.baidubce.com/oauth/2.0/token\"\n",
    "    params = {\"grant_type\": \"client_credentials\", \"client_id\": API_KEY, \"client_secret\": SECRET_KEY}\n",
    "    try:\n",
    "        response = requests.post(url, params=params)\n",
    "        response.raise_for_status()  # Raise an error for bad status codes\n",
    "        return response.json().get(\"access_token\")\n",
    "    except requests.exceptions.RequestException as e:\n",
    "        print(\"An error occurred while retrieving access token:\", e)\n",
    "        return None\n",
    "\n",
    "def analyze_sentiment(text, access_token):\n",
    "    \"\"\"\n",
    "    Send a text to the sentiment analysis API and return the result.\n",
    "    :param text: The text to analyze\n",
    "    :param access_token: The access token for the API\n",
    "    :return: The sentiment analysis result\n",
    "    \"\"\"\n",
    "    url = f\"https://aip.baidubce.com/rpc/2.0/nlp/v1/sentiment_classify?charset=UTF-8&access_token={access_token}\"\n",
    "    payload = json.dumps({\"text\": text})\n",
    "    headers = {\n",
    "        'Content-Type': 'application/json',\n",
    "        'Accept': 'application/json'\n",
    "    }\n",
    "    try:\n",
    "        response = requests.post(url, headers=headers, data=payload)\n",
    "        response.raise_for_status()  # Raise an error for bad status codes\n",
    "        return response.json()\n",
    "    except requests.exceptions.RequestException as e:\n",
    "        print(\"An error occurred while analyzing sentiment:\", e)\n",
    "        return None\n",
    "\n",
    "def main(output_csv):\n",
    "    # Get the access token\n",
    "    access_token = get_access_token()\n",
    "    if not access_token:\n",
    "        print(\"Failed to retrieve access token\")\n",
    "        return\n",
    "    \n",
    "    # Ensure there's a column named 'clean_content' in the DataFrame\n",
    "    if 'clean_content' not in weibo_data.columns:\n",
    "        print(\"DataFrame must contain a 'clean_content' column\")\n",
    "        return\n",
    "\n",
    "    # Analyze sentiment for each text entry and collect results\n",
    "    sentiments = weibo_data['clean_content'].apply(lambda text: analyze_sentiment(text, access_token) if pd.notnull(text) else {\"error\": \"No content\"})\n",
    "    \n",
    "    # Add results to the DataFrame\n",
    "    weibo_data['sentiment_analysis'] = sentiments\n",
    "\n",
    "    # Save the DataFrame to a new CSV file\n",
    "    weibo_data.to_csv(output_csv, index=False)\n",
    "\n",
    "if __name__ == '__main__':\n",
    "    output_csv = 'output.csv'  # Replace with your output CSV file path\n",
    "    main(output_csv)"
   ]
  },
  {
   "cell_type": "markdown",
   "id": "a9be9dc2",
   "metadata": {},
   "source": [
    "## 3. Data analysis"
   ]
  },
  {
   "cell_type": "markdown",
   "id": "bc562aaa",
   "metadata": {},
   "source": [
    "### 3.1 parsing sentiment analysis"
   ]
  },
  {
   "cell_type": "code",
   "execution_count": 47,
   "id": "f523b5f0",
   "metadata": {
    "scrolled": false
   },
   "outputs": [
    {
     "name": "stdout",
     "output_type": "stream",
     "text": [
      "                name                time  \\\n",
      "18166          不叫三岁了 2023-11-19 00:20:00   \n",
      "18165            5块糖 2023-11-19 00:20:00   \n",
      "18164     木木是我的23333 2023-11-19 00:25:00   \n",
      "18163    11champagne 2023-11-19 00:29:00   \n",
      "18162  我吃饭的时候不会饿wuuu 2023-11-19 00:34:00   \n",
      "\n",
      "                                                            content  repost  \\\n",
      "18166                                啊啊啊爱上了海底捞科目三 ​                       0   \n",
      "18165                          万万没想到在海底捞里看了十几遍科目三 ​                       0   \n",
      "18164                         刷了一晚上海底捞科目三，那哥们是真上头 ​                       0   \n",
      "18163                                我想去海底捞跳科目三。。 ​                       0   \n",
      "18162                      在海底捞听了一晚上的科目三 生日歌 分手快乐 ​                       0   \n",
      "\n",
      "       comment  like       Time             clean_content  \\\n",
      "18166        4     0 2023-11-19            啊啊啊爱上了海底捞科目三 ​   \n",
      "18165        0     0 2023-11-19      万万没想到在海底捞里看了十几遍科目三 ​   \n",
      "18164        0     0 2023-11-19      刷了一晚上海底捞科目三那哥们是真上头 ​   \n",
      "18163        2     0 2023-11-19              我想去海底捞跳科目三 ​   \n",
      "18162        0     1 2023-11-19  在海底捞听了一晚上的科目三 生日歌 分手快乐 ​   \n",
      "\n",
      "                                                                                                                                                                  sentiment_analysis  \\\n",
      "18166          {'text': '啊啊啊爱上了海底捞科目三', 'items': [{'confidence': 0.999685, 'negative_prob': 0.000141657, 'positive_prob': 0.999858, 'sentiment': 2}], 'log_id': 1804475013267404973}   \n",
      "18165      {'text': '万万没想到在海底捞里看了十几遍科目三', 'items': [{'confidence': 0.946722, 'negative_prob': 0.0239749, 'positive_prob': 0.976025, 'sentiment': 2}], 'log_id': 1804475013056576908}   \n",
      "18164       {'text': '刷了一晚上海底捞科目三那哥们是真上头', 'items': [{'confidence': 0.243274, 'negative_prob': 0.462164, 'positive_prob': 0.537836, 'sentiment': 1}], 'log_id': 1804475014004018373}   \n",
      "18163               {'text': '我想去海底捞跳科目三', 'items': [{'confidence': 0.891512, 'negative_prob': 0.0488195, 'positive_prob': 0.95118, 'sentiment': 2}], 'log_id': 1804475014457079078}   \n",
      "18162  {'text': '在海底捞听了一晚上的科目三 生日歌 分手快乐', 'items': [{'confidence': 0.972814, 'negative_prob': 0.0122337, 'positive_prob': 0.987766, 'sentiment': 2}], 'log_id': 1804475016246230885}   \n",
      "\n",
      "       confidence  negative_prob  positive_prob  sentiment  \n",
      "18166    0.999685       0.000142       0.999858        2.0  \n",
      "18165    0.946722       0.023975       0.976025        2.0  \n",
      "18164    0.243274       0.462164       0.537836        1.0  \n",
      "18163    0.891512       0.048820       0.951180        2.0  \n",
      "18162    0.972814       0.012234       0.987766        2.0  \n"
     ]
    },
    {
     "name": "stderr",
     "output_type": "stream",
     "text": [
      "/var/folders/xm/8t7yxztd5bz10pfxx8ck_wd80000gn/T/ipykernel_5575/718751626.py:15: SettingWithCopyWarning: \n",
      "A value is trying to be set on a copy of a slice from a DataFrame.\n",
      "Try using .loc[row_indexer,col_indexer] = value instead\n",
      "\n",
      "See the caveats in the documentation: https://pandas.pydata.org/pandas-docs/stable/user_guide/indexing.html#returning-a-view-versus-a-copy\n",
      "  weibo_data[['confidence', 'negative_prob', 'positive_prob', 'sentiment']] = weibo_data['sentiment_analysis'].apply(parse_sentiment_analysis)\n"
     ]
    }
   ],
   "source": [
    "# Function to parse the sentiment_analysis JSON string\n",
    "def parse_sentiment_analysis(data):\n",
    "    try:\n",
    "        sentiment_data = data['items'][0]\n",
    "        return pd.Series({\n",
    "            'confidence': sentiment_data.get('confidence'),\n",
    "            'negative_prob': sentiment_data.get('negative_prob'),\n",
    "            'positive_prob': sentiment_data.get('positive_prob'),\n",
    "            'sentiment': sentiment_data.get('sentiment')\n",
    "        })\n",
    "    except (TypeError, KeyError, IndexError) as e:\n",
    "        return pd.Series({'confidence': None, 'negative_prob': None, 'positive_prob': None, 'sentiment': None})\n",
    "\n",
    "# Apply the parsing function to the sentiment_analysis column\n",
    "weibo_data[['confidence', 'negative_prob', 'positive_prob', 'sentiment']] = weibo_data['sentiment_analysis'].apply(parse_sentiment_analysis)\n",
    "\n",
    "# Check the resulting DataFrame\n",
    "print(weibo_data.head())"
   ]
  },
  {
   "cell_type": "code",
   "execution_count": 138,
   "id": "eba7bb90",
   "metadata": {},
   "outputs": [],
   "source": [
    "Positive_posts=weibo_data[weibo_data['sentiment'] == 2.0]\n",
    "Negative_posts=weibo_data[weibo_data['sentiment'] == 0.0]\n",
    "\n",
    "Positive_posts.to_csv('Positive_posts.csv', index=False, encoding='utf-8-sig')\n",
    "Negative_posts.to_csv('Negative_posts.csv', index=False, encoding='utf-8-sig')"
   ]
  },
  {
   "cell_type": "code",
   "execution_count": 139,
   "id": "04b07cb2",
   "metadata": {},
   "outputs": [],
   "source": [
    "Positive_content=Positive_posts[['clean_content']]\n",
    "Negative_content=Negative_posts[['clean_content']]\n",
    "\n",
    "Positive_content.to_csv('Positive_content.csv', index=False, encoding='utf-8-sig')\n",
    "Negative_content.to_csv('Negative_content.csv', index=False, encoding='utf-8-sig')"
   ]
  },
  {
   "cell_type": "markdown",
   "id": "312f0764",
   "metadata": {},
   "source": [
    "### Sentiment Distribution Analysis"
   ]
  },
  {
   "cell_type": "code",
   "execution_count": 127,
   "id": "5ed58029",
   "metadata": {},
   "outputs": [
    {
     "data": {
      "image/png": "[encoded data removed]",
      "text/plain": [
       "<Figure size 800x600 with 1 Axes>"
      ]
     },
     "metadata": {},
     "output_type": "display_data"
    }
   ],
   "source": [
    "import matplotlib.pyplot as plt\n",
    "\n",
    "custom_labels = {0: 'Negative', 1.0: 'Neutral', 2.0: 'Positive'}\n",
    "\n",
    "# Plot the distribution of sentiment\n",
    "plt.figure(figsize=(8, 6))\n",
    "weibo_data['sentiment'].value_counts().sort_index().plot(kind='bar')\n",
    "\n",
    "plt.xticks(ticks=list(custom_labels.keys()), labels=list(custom_labels.values()),rotation=0)\n",
    "\n",
    "plt.title('Sentiment Distribution')\n",
    "plt.xlabel('Sentiment')\n",
    "plt.ylabel('Count')\n",
    "plt.grid(True)\n",
    "    \n",
    "plt.show()"
   ]
  }
 ],
 "metadata": {
  "kernelspec": {
   "display_name": "Python 3 (ipykernel)",
   "language": "python",
   "name": "python3"
  },
  "language_info": {
   "codemirror_mode": {
    "name": "ipython",
    "version": 3
   },
   "file_extension": ".py",
   "mimetype": "text/x-python",
   "name": "python",
   "nbconvert_exporter": "python",
   "pygments_lexer": "ipython3",
   "version": "3.11.4"
  }
 },
 "nbformat": 4,
 "nbformat_minor": 5
}
